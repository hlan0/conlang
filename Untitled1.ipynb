{
 "cells": [
  {
   "cell_type": "code",
   "execution_count": 4,
   "id": "73a5fe65",
   "metadata": {},
   "outputs": [],
   "source": [
    "from src.phonemes import *"
   ]
  },
  {
   "cell_type": "code",
   "execution_count": 5,
   "id": "ff5830b5",
   "metadata": {},
   "outputs": [],
   "source": [
    "class Phoneme:\n",
    "    def __init__(self, symbol, features):\n",
    "        self.symbol = symbol\n",
    "        self.features = features\n",
    "    \n",
    "    def __repr__(self):\n",
    "        return self.symbol\n",
    "    \n",
    "    def __str__(self):\n",
    "        return self.symbol"
   ]
  },
  {
   "cell_type": "code",
   "execution_count": 6,
   "id": "1e2123a8",
   "metadata": {},
   "outputs": [],
   "source": [
    "CONSONANTS = []\n",
    "for consonant, features in CONSONANT_LIST.items():\n",
    "    phoneme = Phoneme(consonant, features)\n",
    "    CONSONANTS.append(phoneme)"
   ]
  },
  {
   "cell_type": "code",
   "execution_count": 8,
   "id": "b4e5bdd7",
   "metadata": {},
   "outputs": [],
   "source": [
    "VOWELS = []\n",
    "for consonant, features in VOWEL_LIST.items():\n",
    "    phoneme = Phoneme(consonant, features)\n",
    "    VOWELS.append(phoneme)"
   ]
  },
  {
   "cell_type": "code",
   "execution_count": null,
   "id": "414f50ad",
   "metadata": {},
   "outputs": [],
   "source": []
  }
 ],
 "metadata": {
  "kernelspec": {
   "display_name": "Python 3 (ipykernel)",
   "language": "python",
   "name": "python3"
  },
  "language_info": {
   "codemirror_mode": {
    "name": "ipython",
    "version": 3
   },
   "file_extension": ".py",
   "mimetype": "text/x-python",
   "name": "python",
   "nbconvert_exporter": "python",
   "pygments_lexer": "ipython3",
   "version": "3.10.12"
  }
 },
 "nbformat": 4,
 "nbformat_minor": 5
}
